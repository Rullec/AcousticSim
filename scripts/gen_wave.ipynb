{
 "cells": [
  {
   "cell_type": "code",
   "execution_count": 11,
   "metadata": {},
   "outputs": [],
   "source": [
    "import numpy as np\n",
    "import wave \n",
    "import struct\n",
    "from matplotlib import pyplot as plt\n",
    "\n",
    "frequency = 1000 # 1K HZ\n",
    "omega_freq = 2 * np.pi * frequency # angular frequency\n",
    "\n",
    "durations = 2.0 # seconds\n",
    "sampling_rate = 44000.0 #  44KHZ sampling rate\n",
    "amplitude = 16000 / 2# the amptitude of sine wave. \n",
    "num_of_samples = int( durations * sampling_rate)\n",
    "'''\n",
    "We don't care the amplitude even in acoustic simulation. Because the real audio amplitude is also donimated by some other factors:\n",
    "1. the volume of your computer\n",
    "2. the options of your loud speakers\n",
    "\n",
    "If we want to play two waves altogether. From physical unit, the first have a 1000 Pa sound pressure and the other one has 10 Pa sound pressure.\n",
    "We will not set 1000 and 10, but 100 - 1, or 10-0.1, these settings are all ok.\n",
    "'''\n",
    "\n",
    "file = \"test.wav\"\n",
    "\n",
    "sine_wave = [np.sin(omega_freq * x / sampling_rate ) for x in range(num_of_samples)]\n",
    "# print(sine_wave)"
   ]
  },
  {
   "cell_type": "code",
   "execution_count": 13,
   "metadata": {},
   "outputs": [],
   "source": [
    "nframes = num_of_samples\n",
    "comptype = 'NONE'\n",
    "compname = \"not compressed\"\n",
    "nchannels = 1 # mono\n",
    "sampwidth = 2\n",
    "\n",
    "with wave.open(file, 'w') as f:\n",
    "    \n",
    "    f.setparams((nchannels, sampwidth, int(sampling_rate), nframes, comptype, compname))\n",
    "    \n",
    "    for s in sine_wave:\n",
    "        f.writeframes(struct.pack('h', int(s*amplitude)))"
   ]
  }
 ],
 "metadata": {
  "interpreter": {
   "hash": "aa43cd2ccc1ff393b971fd4a3432410e7b10bb4b6c743baaacc4a3f13fd072bf"
  },
  "kernelspec": {
   "display_name": "Python 3.8.5 ('base')",
   "language": "python",
   "name": "python3"
  },
  "language_info": {
   "codemirror_mode": {
    "name": "ipython",
    "version": 3
   },
   "file_extension": ".py",
   "mimetype": "text/x-python",
   "name": "python",
   "nbconvert_exporter": "python",
   "pygments_lexer": "ipython3",
   "version": "3.8.5"
  },
  "orig_nbformat": 4
 },
 "nbformat": 4,
 "nbformat_minor": 2
}
